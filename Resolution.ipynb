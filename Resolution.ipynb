{
 "cells": [
  {
   "cell_type": "code",
   "execution_count": 1,
   "metadata": {
    "collapsed": true
   },
   "outputs": [],
   "source": [
    "import numpy as np\n",
    "import xarray as xr\n",
    "import scipy\n",
    "import gdal\n",
    "from scipy.ndimage.filters import uniform_filter\n",
    "from scipy.ndimage.filters import *\n",
    "import os\n",
    "import math\n",
    "\n",
    "\n",
    "import matplotlib.pyplot as plt\n",
    "#import matplotlib.image as mpimg\n",
    "%matplotlib inline"
   ]
  },
  {
   "cell_type": "code",
   "execution_count": 2,
   "metadata": {
    "collapsed": true
   },
   "outputs": [],
   "source": [
    "def resample_resolution_ratio(data, ratio):\n",
    "    \n",
    "    \"\"\"Takes some gridded data and a desired resampling ratio. For example, a resolution ratio \n",
    "       of 3 means that for data of a base resolution == 25m, one step up in resolution would be 75m\n",
    "       and one step up from that would be 225m etc\"\"\" \n",
    "    \n",
    "    zoom_factor = (1 + ratio * 2) / (1 + ratio * 2**2) \n",
    "    \n",
    "    # Order one is bilinear interpolation.\n",
    "    resample = scipy.ndimage.zoom(data, zoom_factor, order = 1)\n",
    "    \n",
    "    return resample"
   ]
  },
  {
   "cell_type": "code",
   "execution_count": 3,
   "metadata": {
    "collapsed": false
   },
   "outputs": [
    {
     "data": {
      "text/plain": [
       "array([[ 0,  1,  2,  3,  4,  5],\n",
       "       [ 6,  7,  8,  9, 10, 11],\n",
       "       [12, 13, 14, 15, 16, 17],\n",
       "       [18, 19, 20, 21, 22, 23],\n",
       "       [24, 25, 26, 27, 28, 29],\n",
       "       [30, 31, 32, 33, 34, 35]])"
      ]
     },
     "execution_count": 3,
     "metadata": {},
     "output_type": "execute_result"
    }
   ],
   "source": [
    "test = np.arange(36).reshape(6,6)\n",
    "test"
   ]
  },
  {
   "cell_type": "code",
   "execution_count": 4,
   "metadata": {
    "collapsed": false
   },
   "outputs": [
    {
     "data": {
      "text/plain": [
       "(2, 2)"
      ]
     },
     "execution_count": 4,
     "metadata": {},
     "output_type": "execute_result"
    }
   ],
   "source": [
    "test2 = scipy.ndimage.zoom(test, 1/3, order = 1)\n",
    "test2.shape"
   ]
  },
  {
   "cell_type": "code",
   "execution_count": 36,
   "metadata": {
    "collapsed": false
   },
   "outputs": [
    {
     "data": {
      "text/plain": [
       "array([[ 0,  1,  2,  3,  4,  5],\n",
       "       [ 6,  7,  8,  9, 10, 11],\n",
       "       [12, 13, 14, 15, 16, 17],\n",
       "       [18, 19, 20, 21, 22, 23],\n",
       "       [24, 25, 26, 27, 28, 29],\n",
       "       [30, 31, 32, 33, 34, 35]])"
      ]
     },
     "execution_count": 36,
     "metadata": {},
     "output_type": "execute_result"
    }
   ],
   "source": [
    "test3 = scipy.ndimage.zoom(test2, 3, order = 1)\n",
    "test3.shape][]\n",
    "test3"
   ]
  },
  {
   "cell_type": "code",
   "execution_count": 50,
   "metadata": {
    "collapsed": true
   },
   "outputs": [],
   "source": [
    "def resample_resolution_lower(data, ratio):\n",
    "    \n",
    "    \"\"\"Takes some gridded data and a desired resampling ratio. For example, a resolution ratio \n",
    "       of 3 means that for data of a base resolution == 25m, one step up in resolution would be 75m\n",
    "       and one step up from that would be 225m etc\"\"\" \n",
    "    \n",
    "    zoom_factor = 1 / (ratio*3)\n",
    "    \n",
    "    # Order one is bilinear interpolation.\n",
    "    resample = scipy.ndimage.zoom(data, zoom_factor, order = 1)\n",
    "    \n",
    "    return resample"
   ]
  },
  {
   "cell_type": "code",
   "execution_count": 51,
   "metadata": {
    "collapsed": true
   },
   "outputs": [],
   "source": [
    "def resample_resolution_higher(data, ratio):\n",
    "    \n",
    "    \"\"\"Takes some gridded data and a desired resampling ratio. For example, a resolution ratio \n",
    "       of 3 means that for data of a base resolution == 25m, one step up in resolution would be 75m\n",
    "       and one step up from that would be 225m etc\"\"\" \n",
    "    \n",
    "    zoom_factor = 3 * ratio\n",
    "    \n",
    "    # Order one is bilinear interpolation.\n",
    "    resample = scipy.ndimage.zoom(data, zoom_factor, order = 1)\n",
    "    \n",
    "    return resample"
   ]
  },
  {
   "cell_type": "code",
   "execution_count": 52,
   "metadata": {
    "collapsed": false
   },
   "outputs": [
    {
     "data": {
      "text/plain": [
       "array([[ 0,  1,  2,  3,  4,  5],\n",
       "       [ 6,  7,  8,  9, 10, 11],\n",
       "       [12, 13, 14, 15, 16, 17],\n",
       "       [18, 19, 20, 21, 22, 23],\n",
       "       [24, 25, 26, 27, 28, 29],\n",
       "       [30, 31, 32, 33, 34, 35]])"
      ]
     },
     "execution_count": 52,
     "metadata": {},
     "output_type": "execute_result"
    }
   ],
   "source": [
    "test = np.arange(36).reshape(6,6)\n",
    "test"
   ]
  },
  {
   "cell_type": "code",
   "execution_count": 53,
   "metadata": {
    "collapsed": false
   },
   "outputs": [
    {
     "data": {
      "text/plain": [
       "(2, 2)"
      ]
     },
     "execution_count": 53,
     "metadata": {},
     "output_type": "execute_result"
    }
   ],
   "source": [
    "test2 = resample_resolution_lower(test, 1)\n",
    "test2.shape"
   ]
  },
  {
   "cell_type": "code",
   "execution_count": 54,
   "metadata": {
    "collapsed": false
   },
   "outputs": [
    {
     "data": {
      "text/plain": [
       "(6, 6)"
      ]
     },
     "execution_count": 54,
     "metadata": {},
     "output_type": "execute_result"
    }
   ],
   "source": [
    "test3 = resample_resolution_higher(test2, 1)\n",
    "test3.shape"
   ]
  },
  {
   "cell_type": "code",
   "execution_count": null,
   "metadata": {
    "collapsed": true
   },
   "outputs": [],
   "source": []
  }
 ],
 "metadata": {
  "kernelspec": {
   "display_name": "Python 3",
   "language": "python",
   "name": "python3"
  },
  "language_info": {
   "codemirror_mode": {
    "name": "ipython",
    "version": 3
   },
   "file_extension": ".py",
   "mimetype": "text/x-python",
   "name": "python",
   "nbconvert_exporter": "python",
   "pygments_lexer": "ipython3",
   "version": "3.5.2"
  }
 },
 "nbformat": 4,
 "nbformat_minor": 0
}
